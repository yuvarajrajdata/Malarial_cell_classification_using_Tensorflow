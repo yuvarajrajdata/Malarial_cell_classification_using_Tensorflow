{
  "cells": [
    {
      "cell_type": "markdown",
      "metadata": {
        "id": "view-in-github",
        "colab_type": "text"
      },
      "source": [
        "<a href=\"https://colab.research.google.com/github/yuvarajrajdata/Malarial_cell_classification_using_Tensorflow/blob/main/task_1_imp.ipynb\" target=\"_parent\"><img src=\"https://colab.research.google.com/assets/colab-badge.svg\" alt=\"Open In Colab\"/></a>"
      ]
    },
    {
      "cell_type": "code",
      "execution_count": null,
      "metadata": {
        "colab": {
          "base_uri": "https://localhost:8080/"
        },
        "id": "yR5phtK_3pc0",
        "outputId": "cfb60797-e218-410c-d817-d8a914206f9a"
      },
      "outputs": [
        {
          "output_type": "stream",
          "name": "stdout",
          "text": [
            "Mounted at /content/drive\n"
          ]
        }
      ],
      "source": [
        "from google.colab import drive\n",
        "drive.mount('/content/drive')"
      ]
    },
    {
      "cell_type": "code",
      "source": [
        "import zipfile\n",
        "\n",
        "\n",
        "zip_path = '/content/drive/My Drive/Colab Notebooks/Parasitized.zip'\n",
        "extract_path = '/content/Parasitized_images/'\n",
        "\n",
        "import os\n",
        "os.makedirs(extract_path, exist_ok=True)\n",
        "\n",
        "\n",
        "with zipfile.ZipFile(zip_path, 'r') as zip_ref:\n",
        "    zip_ref.extractall(extract_path)\n",
        "\n",
        "extracted_files = os.listdir(extract_path)\n",
        "print(\"Extracted files:\", extracted_files)\n"
      ],
      "metadata": {
        "colab": {
          "base_uri": "https://localhost:8080/"
        },
        "id": "pTtYdHNt8JAn",
        "outputId": "4968db55-6daf-47ce-86d3-4be1f0ffe1cc"
      },
      "execution_count": null,
      "outputs": [
        {
          "output_type": "stream",
          "name": "stdout",
          "text": [
            "Extracted files: ['Parasitized']\n"
          ]
        }
      ]
    },
    {
      "cell_type": "code",
      "source": [
        "zip_path = '/content/drive/My Drive/Colab Notebooks/Uninfected.zip'\n",
        "\n",
        "extract_path = '/content/Uninfected_images/'\n",
        "\n",
        "\n",
        "import os\n",
        "os.makedirs(extract_path, exist_ok=True)\n",
        "\n",
        "\n",
        "with zipfile.ZipFile(zip_path, 'r') as zip_ref:\n",
        "    zip_ref.extractall(extract_path)\n",
        "\n",
        "# List the extracted files\n",
        "extracted_files = os.listdir(extract_path)\n",
        "print(\"Extracted files:\", extracted_files)"
      ],
      "metadata": {
        "colab": {
          "base_uri": "https://localhost:8080/"
        },
        "id": "z7LFgjh69JXq",
        "outputId": "1ebe6ae3-3948-4ce9-ba88-1086e4b76792"
      },
      "execution_count": null,
      "outputs": [
        {
          "output_type": "stream",
          "name": "stdout",
          "text": [
            "Extracted files: ['Uninfected']\n"
          ]
        }
      ]
    },
    {
      "cell_type": "code",
      "execution_count": null,
      "metadata": {
        "colab": {
          "base_uri": "https://localhost:8080/"
        },
        "id": "ARuT7WL12rak",
        "outputId": "b5799619-4ee5-417c-8e53-8ce66820899f"
      },
      "outputs": [
        {
          "output_type": "stream",
          "name": "stdout",
          "text": [
            "Found GPU at: /device:GPU:0\n"
          ]
        }
      ],
      "source": [
        "import tensorflow as tf\n",
        "\n",
        "device_name = tf.test.gpu_device_name()\n",
        "if device_name != '/device:GPU:0':\n",
        "  raise SystemError('GPU device not found')\n",
        "print('Found GPU at: {}'.format(device_name))\n"
      ]
    },
    {
      "cell_type": "code",
      "execution_count": null,
      "metadata": {
        "id": "GQfQQf48mnTb"
      },
      "outputs": [],
      "source": [
        "import numpy as np\n",
        "np.random.seed(1000)\n",
        "\n",
        "import cv2\n",
        "import os\n",
        "from PIL import Image\n",
        "import keras\n",
        "\n",
        "os.environ['KERAS_BACKEND'] = 'tensorflow'\n",
        "\n"
      ]
    },
    {
      "cell_type": "code",
      "execution_count": null,
      "metadata": {
        "id": "DEAr-A8nmnTd"
      },
      "outputs": [],
      "source": [
        "image_directory = '/content/Malaria Cells'\n",
        "SIZE = 64\n",
        "dataset=[]\n",
        "label = []\n",
        "\n",
        "\n",
        "\n",
        "parasitized_images = os.listdir(image_directory + '/Parasitized')\n",
        "\n",
        "for i, image_name in enumerate(parasitized_images):\n",
        "    if (image_name.split('.')[1] == 'png'):\n",
        "        image = cv2.imread(image_directory + '/Parasitized/' + image_name)\n",
        "        image = Image.fromarray(image, 'RGB')\n",
        "        image = image.resize((SIZE, SIZE))\n",
        "        dataset.append(np.array(image))\n",
        "        label.append(0)  # 0 for Parasitized\n",
        "\n",
        "Uninfected_images = os.listdir(image_directory + '/Uninfected')\n",
        "\n",
        "for i, image_name in enumerate(Uninfected_images):\n",
        "    if (image_name.split('.')[1] == 'png'):\n",
        "        image = cv2.imread(image_directory + '/Uninfected/' + image_name)\n",
        "        image = Image.fromarray(image, 'RGB')\n",
        "        image = image.resize((SIZE, SIZE))\n",
        "        dataset.append(np.array(image))\n",
        "        label.append(1)  # 1 for Uninfected\n",
        "\n"
      ]
    },
    {
      "cell_type": "code",
      "execution_count": null,
      "metadata": {
        "id": "puyWW2CwmnTe"
      },
      "outputs": [],
      "source": [
        "INPUT_SHAPE = (SIZE, SIZE, 3)\n",
        "inp = keras.layers.Input(shape=INPUT_SHAPE)"
      ]
    },
    {
      "cell_type": "code",
      "execution_count": null,
      "metadata": {
        "id": "_eMhtrP_mnTe",
        "outputId": "89580d6f-8f0d-41a0-dbfe-478e4c9570a9",
        "colab": {
          "base_uri": "https://localhost:8080/"
        }
      },
      "outputs": [
        {
          "output_type": "stream",
          "name": "stdout",
          "text": [
            "Model: \"model\"\n",
            "_________________________________________________________________\n",
            " Layer (type)                Output Shape              Param #   \n",
            "=================================================================\n",
            " input_1 (InputLayer)        [(None, 64, 64, 3)]       0         \n",
            "                                                                 \n",
            " conv2d (Conv2D)             (None, 64, 64, 32)        896       \n",
            "                                                                 \n",
            " max_pooling2d (MaxPooling2  (None, 32, 32, 32)        0         \n",
            " D)                                                              \n",
            "                                                                 \n",
            " batch_normalization (Batch  (None, 32, 32, 32)        128       \n",
            " Normalization)                                                  \n",
            "                                                                 \n",
            " dropout (Dropout)           (None, 32, 32, 32)        0         \n",
            "                                                                 \n",
            " conv2d_1 (Conv2D)           (None, 32, 32, 64)        18496     \n",
            "                                                                 \n",
            " max_pooling2d_1 (MaxPoolin  (None, 16, 16, 64)        0         \n",
            " g2D)                                                            \n",
            "                                                                 \n",
            " batch_normalization_1 (Bat  (None, 16, 16, 64)        256       \n",
            " chNormalization)                                                \n",
            "                                                                 \n",
            " dropout_1 (Dropout)         (None, 16, 16, 64)        0         \n",
            "                                                                 \n",
            " flatten (Flatten)           (None, 16384)             0         \n",
            "                                                                 \n",
            " dense (Dense)               (None, 512)               8389120   \n",
            "                                                                 \n",
            " batch_normalization_2 (Bat  (None, 512)               2048      \n",
            " chNormalization)                                                \n",
            "                                                                 \n",
            " dropout_2 (Dropout)         (None, 512)               0         \n",
            "                                                                 \n",
            " dense_1 (Dense)             (None, 256)               131328    \n",
            "                                                                 \n",
            " batch_normalization_3 (Bat  (None, 256)               1024      \n",
            " chNormalization)                                                \n",
            "                                                                 \n",
            " dropout_3 (Dropout)         (None, 256)               0         \n",
            "                                                                 \n",
            " dense_2 (Dense)             (None, 1)                 257       \n",
            "                                                                 \n",
            "=================================================================\n",
            "Total params: 8543553 (32.59 MB)\n",
            "Trainable params: 8541825 (32.58 MB)\n",
            "Non-trainable params: 1728 (6.75 KB)\n",
            "_________________________________________________________________\n",
            "None\n"
          ]
        }
      ],
      "source": [
        "conv1 = keras.layers.Conv2D(32, kernel_size=(3, 3), activation='relu',padding = 'same')(inp)\n",
        "pool1 = keras.layers.MaxPooling2D(pool_size=(2, 2))(conv1)\n",
        "norm1 = keras.layers.BatchNormalization(axis = -1)(pool1)\n",
        "drop1 = keras.layers.Dropout(0.2)(norm1)\n",
        "\n",
        "conv2 = keras.layers.Conv2D(64, kernel_size=(3, 3), activation='relu',padding = 'same')(drop1)\n",
        "pool2 = keras.layers.MaxPooling2D(pool_size=(2, 2))(conv2)\n",
        "norm2 = keras.layers.BatchNormalization(axis = -1)(pool2)\n",
        "drop2 = keras.layers.Dropout(0.2)(norm2)\n",
        "\n",
        "flat = keras.layers.Flatten()(drop2)\n",
        "\n",
        "hidden1 = keras.layers.Dense(512, activation='relu')(flat)\n",
        "norm3 = keras.layers.BatchNormalization(axis = -1)(hidden1)\n",
        "drop3 = keras.layers.Dropout(rate=0.2)(norm3)\n",
        "\n",
        "hidden2 = keras.layers.Dense(256, activation='relu')(drop3)\n",
        "norm4 = keras.layers.BatchNormalization(axis = -1)(hidden2)\n",
        "drop4 = keras.layers.Dropout(rate=0.2)(norm4)\n",
        "\n",
        "out = keras.layers.Dense(1, activation='sigmoid')(drop4)\n",
        "\n",
        "model = keras.Model(inputs=inp, outputs=out)\n",
        "model.compile(optimizer='adam', loss='binary_crossentropy', metrics=['accuracy'])\n",
        "\n",
        "print(model.summary())"
      ]
    },
    {
      "cell_type": "code",
      "execution_count": null,
      "metadata": {
        "id": "omBut7N3mnTf",
        "outputId": "c602ab82-cf53-461d-a822-e37d05f4ba10",
        "colab": {
          "base_uri": "https://localhost:8080/"
        }
      },
      "outputs": [
        {
          "output_type": "stream",
          "name": "stdout",
          "text": [
            "Epoch 1/10\n",
            "311/311 [==============================] - 20s 17ms/step - loss: 0.4989 - accuracy: 0.7693 - val_loss: 0.9467 - val_accuracy: 0.7891\n",
            "Epoch 2/10\n",
            "311/311 [==============================] - 4s 14ms/step - loss: 0.2241 - accuracy: 0.9143 - val_loss: 0.2088 - val_accuracy: 0.9315\n",
            "Epoch 3/10\n",
            "311/311 [==============================] - 5s 16ms/step - loss: 0.1920 - accuracy: 0.9284 - val_loss: 0.4787 - val_accuracy: 0.8426\n",
            "Epoch 4/10\n",
            "311/311 [==============================] - 5s 15ms/step - loss: 0.1681 - accuracy: 0.9388 - val_loss: 0.1946 - val_accuracy: 0.9288\n",
            "Epoch 5/10\n",
            "311/311 [==============================] - 4s 14ms/step - loss: 0.1549 - accuracy: 0.9429 - val_loss: 0.2016 - val_accuracy: 0.9383\n",
            "Epoch 6/10\n",
            "311/311 [==============================] - 5s 15ms/step - loss: 0.1358 - accuracy: 0.9487 - val_loss: 0.2252 - val_accuracy: 0.9261\n",
            "Epoch 7/10\n",
            "311/311 [==============================] - 5s 15ms/step - loss: 0.1240 - accuracy: 0.9553 - val_loss: 0.1973 - val_accuracy: 0.9365\n",
            "Epoch 8/10\n",
            "311/311 [==============================] - 4s 14ms/step - loss: 0.1099 - accuracy: 0.9589 - val_loss: 0.2228 - val_accuracy: 0.9311\n",
            "Epoch 9/10\n",
            "311/311 [==============================] - 5s 15ms/step - loss: 0.0980 - accuracy: 0.9636 - val_loss: 0.1862 - val_accuracy: 0.9433\n",
            "Epoch 10/10\n",
            "311/311 [==============================] - 5s 15ms/step - loss: 0.0869 - accuracy: 0.9680 - val_loss: 0.2518 - val_accuracy: 0.9361\n",
            "173/173 [==============================] - 1s 4ms/step - loss: 0.2203 - accuracy: 0.9418\n",
            "Test_Accuracy: 94.18%\n"
          ]
        }
      ],
      "source": [
        "from sklearn.model_selection import train_test_split\n",
        "from keras.utils import to_categorical\n",
        "import numpy as np\n",
        "\n",
        "label = np.array(label)\n",
        "\n",
        "X_train, X_test, y_train, y_test = train_test_split(dataset, label, test_size=0.2, random_state=0)\n",
        "\n",
        "\n",
        "\n",
        "# Training the model\n",
        "history = model.fit(\n",
        "    np.array(X_train),\n",
        "    y_train,\n",
        "    batch_size=64,\n",
        "    verbose=1,\n",
        "    epochs=10,  #  epochs\n",
        "    validation_split=0.1,  # 10% of the training data for validation\n",
        "    shuffle=True\n",
        ")\n",
        "\n",
        "\n",
        "test_accuracy = model.evaluate(np.array(X_test), y_test)[1] * 100\n",
        "print(\"Test_Accuracy: {:.2f}%\".format(test_accuracy))\n"
      ]
    },
    {
      "cell_type": "code",
      "source": [
        "import matplotlib.pyplot as plt\n",
        "import numpy as np\n",
        "\n",
        "\n",
        "\n",
        "# Create subplots\n",
        "fig, (ax1, ax2) = plt.subplots(2, 1, figsize=(10, 8))\n",
        "\n",
        "# Plot accuracy\n",
        "max_epoch = len(history.history['accuracy']) + 1\n",
        "epoch_list = list(range(1, max_epoch))\n",
        "ax1.plot(epoch_list, history.history['accuracy'], label='Train Accuracy')\n",
        "ax1.plot(epoch_list, history.history['val_accuracy'], label='Validation Accuracy')\n",
        "ax1.set_xticks(np.arange(0, max_epoch, 5))\n",
        "ax1.set_ylabel('Accuracy Value')\n",
        "ax1.set_xlabel('Epoch')\n",
        "ax1.set_title('Accuracy')\n",
        "l1 = ax1.legend(loc=\"best\")\n",
        "\n",
        "# Plot loss\n",
        "ax2.plot(epoch_list, history.history['loss'], label='Train Loss')\n",
        "ax2.plot(epoch_list, history.history['val_loss'], label='Validation Loss')\n",
        "ax2.set_xticks(np.arange(0, max_epoch, 5))\n",
        "ax2.set_ylabel('Loss Value')\n",
        "ax2.set_xlabel('Epoch')\n",
        "ax2.set_title('Loss')\n",
        "l2 = ax2.legend(loc=\"best\")\n",
        "\n",
        "# Show the plot\n",
        "plt.show()\n"
      ],
      "metadata": {
        "colab": {
          "base_uri": "https://localhost:8080/",
          "height": 718
        },
        "id": "2hlTXBxTA44Q",
        "outputId": "00b3a2e5-0c46-4af0-f6b2-1d9f176a8138"
      },
      "execution_count": null,
      "outputs": [
        {
          "output_type": "display_data",
          "data": {
            "text/plain": [
              "<Figure size 1000x800 with 2 Axes>"
            ],
            "image/png": "[encoded data removed]"
          },
          "metadata": {}
        }
      ]
    },
    {
      "cell_type": "code",
      "execution_count": null,
      "metadata": {
        "id": "7gYF044UmnTg"
      },
      "outputs": [],
      "source": [
        "model.save('/model_cnn.h5')"
      ]
    },
    {
      "cell_type": "code",
      "source": [
        "from keras.models import load_model\n",
        "\n",
        "\n",
        "\n",
        "model = load_model('/content/C:/Users/user/Desktop/task/task 1/Malaria Cells/model_cnn.h5')\n",
        "\n",
        "\n",
        "new_image_path = '/content/Malaria Cells/Uninfected/C100P61ThinF_IMG_20150918_144104_cell_21.png'\n",
        "SIZE = 64\n",
        "\n",
        "\n",
        "new_image = cv2.imread(new_image_path)\n",
        "new_image = Image.fromarray(new_image, 'RGB')\n",
        "new_image = new_image.resize((SIZE, SIZE))\n",
        "new_image = np.array(new_image)\n",
        "\n",
        "\n",
        "new_image = new_image.astype('float32') / 255.0\n",
        "new_image = np.expand_dims(new_image, axis=0)\n",
        "\n",
        "predictions = model.predict(new_image)\n",
        "\n",
        "\n",
        "if predictions[0] < 0.5:\n",
        "    print(\"Parasitized\")\n",
        "else:\n",
        "    print(\"Uninfected\")\n"
      ],
      "metadata": {
        "colab": {
          "base_uri": "https://localhost:8080/"
        },
        "id": "VZVydEtNARtb",
        "outputId": "b711201b-156c-4568-f225-8281ff2d75bf"
      },
      "execution_count": null,
      "outputs": [
        {
          "output_type": "stream",
          "name": "stdout",
          "text": [
            "1/1 [==============================] - 1s 525ms/step\n",
            "Uninfected\n"
          ]
        }
      ]
    },
    {
      "cell_type": "code",
      "source": [],
      "metadata": {
        "id": "RqcFVSTMBzzq"
      },
      "execution_count": null,
      "outputs": []
    }
  ],
  "metadata": {
    "accelerator": "GPU",
    "colab": {
      "provenance": [],
      "include_colab_link": true
    },
    "kernelspec": {
      "display_name": "Python 3",
      "name": "python3"
    },
    "language_info": {
      "codemirror_mode": {
        "name": "ipython",
        "version": 3
      },
      "file_extension": ".py",
      "mimetype": "text/x-python",
      "name": "python",
      "nbconvert_exporter": "python",
      "pygments_lexer": "ipython3",
      "version": "3.11.3"
    }
  },
  "nbformat": 4,
  "nbformat_minor": 0
}